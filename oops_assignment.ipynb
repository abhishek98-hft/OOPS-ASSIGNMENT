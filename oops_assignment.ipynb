{
  "nbformat": 4,
  "nbformat_minor": 0,
  "metadata": {
    "colab": {
      "provenance": []
    },
    "kernelspec": {
      "name": "python3",
      "display_name": "Python 3"
    },
    "language_info": {
      "name": "python"
    }
  },
  "cells": [
    {
      "cell_type": "markdown",
      "source": [
        "#**OOPS ASSIGNMENT**#"
      ],
      "metadata": {
        "id": "N6bFqoBCzV7K"
      }
    },
    {
      "cell_type": "markdown",
      "source": [
        "Q1: What is Object-Oriented Programming (OOP)?"
      ],
      "metadata": {
        "id": "IEctx3JQzltE"
      }
    },
    {
      "cell_type": "markdown",
      "source": [
        "Ans: Object-oriented programming (OOP) is a programming paradigm based on the concept of *objects, which are instances of **classes*. In OOP, software is designed using objects that interact with each other to achieve specific functionality.\n",
        "\n",
        "### Key Concepts of OOP\n",
        "1. *Class*: A blueprint for creating objects. It defines attributes (data) and methods (functions) that describe the behavior of the objects.\n",
        "\n",
        "2. *Object*: An instance of a class. Each object can hold its own data and interact with other objects.\n",
        "\n",
        "3. *Encapsulation*: The practice of bundling data (attributes) and methods (functions) that operate on the data within a single unit (class). Access to this data is restricted using access modifiers like private, protected, and public.\n",
        "\n",
        "4. *Inheritance*: A mechanism that allows a class (child) to inherit properties and methods from another class (parent). This promotes code reusability.\n",
        "\n",
        "5. *Polymorphism*: The ability of objects to be treated as instances of their parent class. This allows methods to have different implementations depending on the object calling them.\n",
        "\n",
        "6. *Abstraction*: The process of hiding complex implementation details and showing only essential features to the user.\n",
        "\n",
        "\n",
        "\n",
        "\n",
        "###  Uses of OOP:\n",
        "- Enhances code *reusability*.\n",
        "- Promotes *modularity* for easier troubleshooting and maintenance.\n",
        "- Facilitates *scalability* in large projects.\n",
        "- Encourages *data security* through encapsulation."
      ],
      "metadata": {
        "id": "Lx44XRhpzloF"
      }
    },
    {
      "cell_type": "markdown",
      "source": [
        "Q2: What is a class in OOP?"
      ],
      "metadata": {
        "id": "Bu4-WCyrzlje"
      }
    },
    {
      "cell_type": "markdown",
      "source": [
        "Ans: In *object-oriented programming (OOP), a **class* is a blueprint or template for creating objects. It defines a set of *attributes* (also known as properties or variables) and *methods* (functions) that describe the behavior and characteristics of the objects created from the class.  \n",
        "\n",
        "### Key Components of a Class\n",
        "1. *Attributes (Data Members)*: Variables that hold the state or properties of an object.  \n",
        "2. *Methods (Functions)*: Define the behavior or actions that an object can perform.  \n",
        "3. *Constructor*: A special method (like __init__ in Python) that initializes an object when it’s created.  \n",
        "\n",
        "\n",
        "###  Uses of Classes:\n",
        "- They help organize code logically.\n",
        "- Promote *code reusability* and *modularity*.\n",
        "- Enable concepts like *inheritance, **polymorphism, and **encapsulation* for efficient code design.\n"
      ],
      "metadata": {
        "id": "5fBrXN9_zlS-"
      }
    },
    {
      "cell_type": "markdown",
      "source": [
        "Q3: What is an object in OOP?"
      ],
      "metadata": {
        "id": "FhNgHIvtzlMs"
      }
    },
    {
      "cell_type": "markdown",
      "source": [
        "Ans:In *object-oriented programming (OOP), an **object* is an *instance of a class. While a class acts as a blueprint, an object is the **real-world entity* that is created from that blueprint. Each object has its own *attributes* (data) and can perform *methods* (functions) defined in the class.\n",
        "\n",
        "### Characteristics of an Object\n",
        "- *State: Represented by the object's **attributes* (e.g., color, size, model).  \n",
        "- *Behavior: Defined by the object's **methods* (e.g., start, stop, accelerate).  \n",
        "- *Identity*: Each object is unique, even if it shares the same class.\n",
        "\n",
        "\n",
        "### Key Points\n",
        "1. *Object Creation*: Objects are created by calling the class like a function (e.g., dog1 = Dog(\"Buddy\", \"Golden Retriever\")).  \n",
        "2. *Multiple Objects*: Each object maintains its own state. Changing one object’s data won’t affect others.  \n",
        "3. *Interaction*: Objects can interact with each other to build complex systems.\n",
        "\n"
      ],
      "metadata": {
        "id": "QyNb9dDYzpXV"
      }
    },
    {
      "cell_type": "markdown",
      "source": [
        "Q4: What is the difference between abstraction and encapsulation?"
      ],
      "metadata": {
        "id": "3r5qNWqZzpR7"
      }
    },
    {
      "cell_type": "markdown",
      "source": [
        "Ans: *Abstraction* and *Encapsulation* are both core concepts in *Object-Oriented Programming (OOP)*, but they serve different purposes. Here's a clear comparison:\n",
        "\n",
        "| Feature            | *Abstraction*                        | *Encapsulation*                        |\n",
        "|--------------------|-----------------------------------------|--------------------------------------------|\n",
        "| *Definition*       | Hides *complex implementation details* and shows only the essential features. | Hides the *internal state* of an object and restricts direct access to it. |\n",
        "| *Purpose*          | Focuses on *what* an object does rather than *how* it does it. | Focuses on *how* data is stored and managed to ensure security and control. |\n",
        "| *Implementation*   | Achieved using *abstract classes, **interfaces, and methods that only define behavior. | Achieved using **access modifiers* (e.g., private, protected, public). |\n",
        "| *Example Concept*  | Think of a *TV remote* — you press buttons to change channels without knowing how the internal circuits work. | Think of a *capsule pill* — the ingredients (data) are hidden inside and accessed only in controlled ways. |\n",
        "| *Key Benefit*       | Improves *code simplicity* by focusing on essential functionalities. | Ensures *data protection* and *control* over how data is accessed or modified. |\n",
        "\n",
        "\n",
        "### uses:\n",
        "- Use *Abstraction* to hide *complex logic* and expose only necessary details.  \n",
        "- Use *Encapsulation* to *secure* data by restricting direct access and controlling how it's modified.  \n",
        "\n"
      ],
      "metadata": {
        "id": "XyqZRQwTzpMu"
      }
    },
    {
      "cell_type": "markdown",
      "source": [
        "Q5: What are dunder methods in Python?"
      ],
      "metadata": {
        "id": "23p1vHLxzpHy"
      }
    },
    {
      "cell_type": "markdown",
      "source": [
        "Ans: *Dunder methods, short for **double underscore methods, are special methods in Python that have names surrounded by **double underscores* (e.g., __init__, __str__, __len__). They're also known as *magic methods* or *special methods* and are used to define how objects behave in specific situations.\n",
        "\n",
        "Dunder methods are not meant to be called directly by you; instead, they are automatically invoked by Python in response to certain operations.\n",
        "\n",
        "---\n",
        "\n",
        "### Common Dunder Methods and Their Purpose\n",
        "\n",
        "| *Method*   | *Description*                                   | *Example Usage*                |\n",
        "|---------------|---------------------------------------------------|----------------------------------|\n",
        "| __init__     | Initializes a new object when it's created.        | Called automatically during object creation. |\n",
        "| __str__      | Defines the string representation of the object.   | Called by print() or str(). |\n",
        "| __repr__     | Provides an unambiguous string representation for debugging. | Called by repr() or in the console. |\n",
        "| __len__      | Defines the behavior for len() function.         | Used to calculate the length of objects. |\n",
        "| __getitem__  | Enables indexing like obj[index].                | Customizes object indexing. |\n",
        "| __setitem__  | Defines behavior for setting values with obj[key] = value. | Customizes item assignment. |\n",
        "| __delitem__  | Defines behavior for deleting an item with del obj[key]. | Customizes item deletion. |\n",
        "| __call__     | Makes an object behave like a function.            | Enables obj() syntax. |\n",
        "| __eq__       | Defines behavior for == (equality check).         | Customizes comparison. |\n",
        "| __add__      | Defines behavior for + operator.                  | Customizes addition. |\n",
        "| __iter__     | Makes an object iterable.                          | Enables iteration using for loops. |\n",
        "| __next__     | Defines behavior for the next() function in iterators. | Advances iteration. |\n",
        "\n",
        "---\n",
        "\n",
        "###  Uses of Dunder Methods?\n",
        "✅ Improve code readability.  \n",
        "✅ Enable built-in functionality like print(), len(), or +.  \n",
        "✅ Allow objects to behave like built-in types (e.g., lists, dictionaries).  \n",
        "\n"
      ],
      "metadata": {
        "id": "_9sxT1vtzpDV"
      }
    },
    {
      "cell_type": "markdown",
      "source": [
        "Q6: Explain the concept of inheritance in OOP?"
      ],
      "metadata": {
        "id": "Y3c5FE5uzo6K"
      }
    },
    {
      "cell_type": "markdown",
      "source": [
        "Ans: *Inheritance* is an important concept in *Object-Oriented Programming (OOP)* that allows one class (called the *child class* or *subclass) to inherit properties and methods from another class (called the **parent class* or *superclass*).  \n",
        "\n",
        "Inheritance promotes *code reusability, improves **organization, and supports **polymorphism* by allowing child classes to extend or modify the behavior of the parent class.\n",
        "\n",
        "---\n",
        "\n",
        "### Types of Inheritance\n",
        "Python supports multiple types of inheritance:\n",
        "\n",
        "1. *Single Inheritance*  \n",
        "   → A child class inherits from one parent class.  \n",
        "2. *Multiple Inheritance*  \n",
        "   → A child class inherits from *two or more* parent classes.  \n",
        "3. *Multilevel Inheritance*  \n",
        "   → A child class inherits from a parent class, and another class inherits from that child class.  \n",
        "4. *Hierarchical Inheritance*  \n",
        "   → Multiple child classes inherit from the *same* parent class.  \n",
        "5. *Hybrid Inheritance*  \n",
        "   → A combination of two or more types of inheritance.\n",
        "\n",
        "---\n",
        "\n",
        "\n",
        "---\n",
        "\n",
        "###  Benefits of Inheritance\n",
        "✅ Promotes *code reusability* — common logic can be written once in the parent class.  \n",
        "✅ Supports *extensibility* — child classes can override or extend functionalities.  \n",
        "✅ Encourages *modular programming*, making code easier to manage and understand.  \n",
        "\n"
      ],
      "metadata": {
        "id": "XHNChr1tzoya"
      }
    },
    {
      "cell_type": "markdown",
      "source": [
        "Q7: What is polymorphism in OOP?"
      ],
      "metadata": {
        "id": "hxVpC0rMzotl"
      }
    },
    {
      "cell_type": "markdown",
      "source": [
        "Ans: *Polymorphism* is a core concept in *Object-Oriented Programming (OOP)* that allows objects of different classes to be treated as objects of a common superclass. It enables the same interface (like a method) to be used for different data types or class implementations.\n",
        "\n",
        "In simple terms, *polymorphism* means \"*many forms*.\" It allows one function, method, or operator to behave differently based on the object calling it.\n",
        "\n",
        "---\n",
        "\n",
        "### Types of Polymorphism\n",
        "1. *Compile-time Polymorphism (Method Overloading)*  \n",
        "   → Achieved by defining multiple methods with the same name but different parameters. (Python does not support method overloading directly, but it can be mimicked.)  \n",
        "\n",
        "2. *Run-time Polymorphism (Method Overriding)*  \n",
        "   → Achieved when a *child class* provides its own implementation of a method that already exists in the *parent class*.  \n",
        "\n",
        "---\n",
        "\n",
        "\n",
        "---\n",
        "\n",
        "### Benefits of Polymorphism\n",
        "✅ Improves *code flexibility* by enabling a single function to handle different types of data.  \n",
        "✅ Encourages *extensibility*, allowing new classes to be added without modifying existing code.  \n",
        "✅ Promotes *cleaner code* by reducing redundancy.  \n",
        "\n"
      ],
      "metadata": {
        "id": "QomcUPOqzoo2"
      }
    },
    {
      "cell_type": "markdown",
      "source": [
        "Q8: How is encapsulation achieved in Python?"
      ],
      "metadata": {
        "id": "QYUEea73zojz"
      }
    },
    {
      "cell_type": "markdown",
      "source": [
        "Ans: *Encapsulation* in Python is achieved by *restricting access* to certain parts of an object’s data and methods. This is done using *access modifiers* (like private and protected) to control how data can be accessed or modified.  \n",
        "\n",
        "The key idea is to bundle the data (*attributes) and methods (functions) that operate on the data into a **single unit* (class) and restrict direct access to some of the internal details.  \n",
        "\n",
        "---\n",
        "\n",
        "### *Access Modifiers in Python for Encapsulation*\n",
        "Python uses special naming conventions to control access:\n",
        "\n",
        "| Modifier | Syntax       | Access Level                  | Example                          |\n",
        "|-----------|---------------|-------------------------------|----------------------------------|\n",
        "| *Public* | attribute    | Accessible from *anywhere*.   | self.name                     |\n",
        "| *Protected* | _attribute | Accessible within the *class* and its *subclasses* (convention only; not strictly enforced). | self._age                    |\n",
        "| *Private* | __attribute  | Accessible *only within the class* (name mangling applies). | self.__salary                 |\n",
        "\n",
        "---\n",
        "\n",
        "\n"
      ],
      "metadata": {
        "id": "6hMBLyNLzoep"
      }
    },
    {
      "cell_type": "markdown",
      "source": [
        "Q9: What is a constructor in Python?"
      ],
      "metadata": {
        "id": "gdshWNUbzoZo"
      }
    },
    {
      "cell_type": "markdown",
      "source": [
        "Ans: In Python, a *constructor* is a special method used to *initialize objects* when they are created. The constructor method is called automatically when an object is instantiated from a class.  \n",
        "\n",
        "In Python, the constructor method is defined using the __init__() method.\n",
        "\n",
        "---\n",
        "\n",
        "### *Syntax of a Constructor*\n",
        "python\n",
        "class ClassName:\n",
        "    def __init__(self, parameters):\n",
        "        # Initialization code (assigning values to attributes)\n",
        "\n",
        "\n",
        "- **__init__** → This is the constructor method.  \n",
        "- **self** → Refers to the current object instance and is used to access its attributes and methods.  \n",
        "- **parameters** → Values passed during object creation.  \n",
        "\n",
        "---\n",
        "\n",
        "\n",
        "---\n",
        "\n",
        "### * Features of Constructors*\n",
        "✅ Automatically called when an object is created.  \n",
        "✅ Used for *initializing object attributes*.  \n",
        "✅ Each class can have **only one __init__() method** (though *args or **kwargs can handle multiple parameters).  \n",
        "\n"
      ],
      "metadata": {
        "id": "H1HOjP_hzoU_"
      }
    },
    {
      "cell_type": "markdown",
      "source": [
        "Q10: What are class and static methods in Python?"
      ],
      "metadata": {
        "id": "yP0RcBUwzoOj"
      }
    },
    {
      "cell_type": "markdown",
      "source": [
        "Ans: In Python, *class methods* and *static methods* are special types of methods that behave differently from regular instance methods. They are defined using decorators:  \n",
        "\n",
        "- @classmethod → For *class methods*  \n",
        "- @staticmethod → For *static methods*  \n",
        "\n",
        "---\n",
        "\n",
        "## *1. Class Method*\n",
        "A *class method* is bound to the *class* rather than the *instance*. It can modify the class state that applies to all instances.\n",
        "\n",
        "### *Key Features of Class Methods*\n",
        "✅ Defined using the @classmethod decorator.  \n",
        "✅ Takes cls as its first parameter (which refers to the class itself).  \n",
        "✅ Can access and modify *class-level* attributes but cannot directly modify instance-specific data.  \n",
        "\n",
        "---\n",
        "\n",
        "\n",
        "---\n",
        "\n",
        "## *2. Static Method*\n",
        "A *static method* is bound to the *class, not the instance. It cannot access or modify **class-level* or *instance-level* data.  \n",
        "\n",
        "### *Key Features of Static Methods*\n",
        "✅ Defined using the @staticmethod decorator.  \n",
        "✅ Does **not take self or cls** as a parameter.  \n",
        "✅ Used for utility functions that are relevant to the class but don't require class or instance data.  \n",
        "\n",
        "---\n",
        "\n",
        "\n",
        "\n",
        "## *Key Differences Between Class and Static Methods*\n",
        "\n",
        "| Feature          | *Class Method*            | *Static Method*             |\n",
        "|------------------|----------------------------|------------------------------|\n",
        "| *Decorator Used* | @classmethod               | @staticmethod               |\n",
        "| *First Parameter* | Requires cls (class reference) | No self or cls parameter |\n",
        "| *Access*          | Can access and modify *class-level data* only. | Cannot access or modify *class-level* or *instance-level* data. |\n",
        "| *Use Case*         | When you need to modify or access *class attributes*. | For utility methods that don’t depend on class or instance data. |\n",
        "\n",
        "---\n",
        "\n",
        "### *When to Use Each?*\n",
        "✅ Use *class methods* when you need to modify class-level data or create alternative constructors.  \n",
        "✅ Use *static methods* for utility functions that are logically related to the class but don’t require access to its data.  \n",
        "\n"
      ],
      "metadata": {
        "id": "V3Xt_bpbzoIw"
      }
    },
    {
      "cell_type": "markdown",
      "source": [
        "Q11: What is method overloading in Python?"
      ],
      "metadata": {
        "id": "bfts0FZuzn8v"
      }
    },
    {
      "cell_type": "markdown",
      "source": [
        "Ans: *Method overloading* refers to the ability to define multiple methods with the *same name* but *different parameters* within a class. While some programming languages (like Java or C++) support true method overloading directly, *Python does not support method overloading in the traditional sense.*  \n",
        "\n",
        "However, in Python, we can *simulate method overloading* using techniques like:\n",
        "\n",
        "- Using *default arguments*  \n",
        "- Using ***args** and ****kwargs**  \n",
        "- Conditional logic inside the method  \n",
        "\n",
        "---\n",
        "\n",
        "\n",
        "\n",
        "---\n",
        "\n",
        "## *Key point*\n",
        "✅ Python doesn’t support *true method overloading* like Java or C++.  \n",
        "✅ Overloading behavior can be achieved using *default arguments*, ***args*, or **conditional logic*.  \n",
        "✅ Python’s dynamic typing allows flexible method designs, making traditional overloading less necessary.  \n",
        "\n"
      ],
      "metadata": {
        "id": "LW7mKXh5zn3t"
      }
    },
    {
      "cell_type": "markdown",
      "source": [
        "Q12: What is method overriding in OOP?"
      ],
      "metadata": {
        "id": "wWajtb6-zny4"
      }
    },
    {
      "cell_type": "markdown",
      "source": [
        "Ans: *Method Overriding* is an *Object-Oriented Programming (OOP)* concept where a *child class* provides its own implementation of a method that is already defined in its *parent class*.  \n",
        "\n",
        "In Python, method overriding allows the child class to modify the behavior of the parent class method to meet specific needs.  \n",
        "\n",
        "---\n",
        "\n",
        "## *Key Characteristics of Method Overriding*\n",
        "✅ The method in the child class must have the *same name, **same parameters, and **same return type* as the method in the parent class.  \n",
        "✅ It is used to achieve *run-time polymorphism*.  \n",
        "✅ The super() function is often used to call the parent class method from the child class.  \n",
        "\n",
        "---\n",
        "\n",
        "\n",
        "\n",
        "## *When to Use Method Overriding*\n",
        "✅ When a *child class* needs to provide a *specialized implementation* of a parent method.  \n",
        "✅ When you want to *extend* the functionality of a parent method using super().  \n",
        "✅ Useful in implementing *polymorphic behavior*.  \n",
        "\n"
      ],
      "metadata": {
        "id": "yRWIyQKdzns5"
      }
    },
    {
      "cell_type": "markdown",
      "source": [
        "Q13: What is a property decorator in Python?"
      ],
      "metadata": {
        "id": "hMCnfpKtznm2"
      }
    },
    {
      "cell_type": "markdown",
      "source": [
        "Ans: The **@property decorator** in Python is used to *define getter methods* in an elegant and Pythonic way. It allows a method to be accessed like an *attribute*, providing a cleaner syntax for accessing and modifying data.  \n",
        "\n",
        "The @property decorator is commonly used to implement *encapsulation*, allowing controlled access to private attributes.\n",
        "\n",
        "---\n",
        "\n",
        "\n",
        "\n",
        "## **How @property Works**\n",
        "The @property decorator is used with three related decorators:\n",
        "\n",
        "1. **@property** → Defines the *getter* method.  \n",
        "2. **@<property_name>.setter** → Defines the *setter* method for controlled data modification.  \n",
        "3. **@<property_name>.deleter** → Defines the *deleter* method to delete an attribute.\n",
        "\n",
        "---\n",
        "\n",
        "\n",
        "\n",
        "## **Why Use @property?**\n",
        "✅ *Cleaner Syntax:* Access methods like attributes (e.g., obj.value instead of obj.get_value()).  \n",
        "✅ *Encapsulation:* Enables controlled access to *private attributes*.  \n",
        "✅ *Read-only Properties:* Using @property without a setter makes data *immutable*.  \n",
        "✅ *Flexibility:* Allows you to modify logic behind an attribute without changing the external interface.  \n",
        "\n",
        "---\n",
        "\n",
        "\n",
        "## **When to Use @property?**\n",
        "✅ When you want to control *access* to private attributes.  \n",
        "✅ When you need to add *validation logic* before setting a value.  \n",
        "✅ When creating *read-only* properties to protect important data.  \n",
        "\n"
      ],
      "metadata": {
        "id": "UknPPjbLznf-"
      }
    },
    {
      "cell_type": "markdown",
      "source": [
        "Q14: Why is polymorphism important in OOP?"
      ],
      "metadata": {
        "id": "XOqoGtJwzwjN"
      }
    },
    {
      "cell_type": "markdown",
      "source": [
        "Ans: *Polymorphism* is a crucial concept in Object-Oriented Programming (OOP) that allows objects of *different classes* to be treated as objects of a *common superclass. It enables a single interface (like a method or function) to work with **different data types* or *class objects*.\n",
        "\n",
        "### *Why is Polymorphism Important in OOP?*\n",
        "\n",
        "Polymorphism is important because it provides:\n",
        "\n",
        "---\n",
        "\n",
        "## *1. Code Flexibility and Extensibility*\n",
        "- With polymorphism, you can write code that works with *multiple types of objects* without knowing their specific class in advance.  \n",
        "- This makes your code *more flexible* and *easier to extend*.  \n",
        "\n",
        "\n",
        "\n",
        "## *2. Promotes Code Reusability*\n",
        "- Polymorphism allows you to define a method in a *parent class* and reuse it across multiple *child classes* without rewriting code.  \n",
        "\n",
        "\n",
        "---\n",
        "\n",
        "## *3. Enhances Maintainability*\n",
        "- Polymorphism helps reduce code duplication.  \n",
        "- Instead of writing conditional logic (if-else) for different object types, you can rely on polymorphic behavior.  \n",
        "\n",
        "\n",
        "---\n",
        "\n",
        "## *4. Facilitates Dynamic Method Binding (Run-time Polymorphism)*\n",
        "- With method overriding, the *correct method* is automatically selected at *run time* based on the object’s type.  \n",
        "- This ensures the most *relevant behavior* is executed without changing the calling code.\n",
        "\n",
        "\n",
        "\n",
        "---\n",
        "\n",
        "## *5. Supports Design Principles (SOLID Principles)*\n",
        "- Polymorphism aligns with the *Open/Closed Principle, where classes are **open for extension* but *closed for modification*.  \n",
        "- This encourages better design patterns like *Strategy, **Command, and **Factory* patterns.\n",
        "\n",
        "---\n",
        "\n"
      ],
      "metadata": {
        "id": "cXwe7Ojtzwdd"
      }
    },
    {
      "cell_type": "markdown",
      "source": [
        "Q15: What is an abstract class in Python?"
      ],
      "metadata": {
        "id": "vYJIJm-PzwWr"
      }
    },
    {
      "cell_type": "markdown",
      "source": [
        "Ans: An *abstract class* in Python is a class that *cannot be instantiated directly* and is meant to be *inherited* by other classes. It often contains *abstract methods*, which are methods declared without an implementation.  \n",
        "\n",
        "In Python, abstract classes are created using the **abc** (Abstract Base Class) module.\n",
        "\n",
        "---\n",
        "\n",
        "## *Key Features of Abstract Classes*\n",
        "✅ Defined using the ABC class from the abc module.  \n",
        "✅ Can include both *abstract methods* (methods without implementation) and *concrete methods* (methods with implementation).  \n",
        "✅ Cannot be instantiated directly; you must create a subclass that implements all abstract methods.  \n",
        "✅ Enforces *method implementation* in derived classes to ensure consistency.\n",
        "\n",
        "---\n",
        "\n",
        "\n",
        "---\n",
        "\n",
        "## *How Does an Abstract Class Work?*\n",
        "1. **ABC as a Base Class:**  \n",
        "   - The abstract class inherits from ABC (a special base class for defining abstract classes).  \n",
        "2. **@abstractmethod Decorator:**  \n",
        "   - Marks a method as *abstract* (no implementation required).  \n",
        "   - Any class inheriting this abstract class *must implement* the abstract method; otherwise, it will raise an error.  \n",
        "3. *Concrete Methods (Optional):*  \n",
        "   - Abstract classes can also include *regular methods* with full implementation.\n",
        "\n",
        "---\n",
        "\n",
        "## *Why Use Abstract Classes?*\n",
        "### ✅ Enforces Consistency\n",
        "- Ensures all child classes follow a common structure by implementing required methods.\n",
        "\n",
        "### ✅ Supports Code Reusability\n",
        "- Common functionality can be defined in the abstract class, reducing code duplication.\n",
        "\n",
        "### ✅ Encourages Proper Design\n",
        "- Ideal for defining *base classes* in frameworks, libraries, or complex systems where consistent behavior is required.\n",
        "\n",
        "---\n",
        "\n",
        "\n",
        "\n",
        "## *When to Use Abstract Classes*\n",
        "✅ When you need to define a *blueprint* for other classes.  \n",
        "✅ When you want to enforce that *certain methods must be implemented* in derived classes.  \n",
        "✅ When you want to include *shared functionality* alongside abstract methods.\n"
      ],
      "metadata": {
        "id": "XKJzRpd1zwQA"
      }
    },
    {
      "cell_type": "markdown",
      "source": [
        "Q16:  What are the advantages of OOP?"
      ],
      "metadata": {
        "id": "3BCwE2bZzwFR"
      }
    },
    {
      "cell_type": "markdown",
      "source": [
        "Ans: *Object-Oriented Programming (OOP)* offers several advantages that make it a powerful programming paradigm. Its focus on *objects, **classes, and **reusable code* leads to better software design and improved development efficiency.\n",
        "\n",
        "---\n",
        "\n",
        "## *Advantages of OOP*\n",
        "### *1. Code Reusability*\n",
        "- OOP promotes *code reuse* through *inheritance*.  \n",
        "- Common functionality can be defined in a *base class* and reused in *derived classes*.  \n",
        "- This reduces redundancy and simplifies maintenance.  \n",
        "\n",
        "\n",
        "---\n",
        "\n",
        "### *2. Improved Code Maintainability*\n",
        "- OOP organizes code into *modular classes*, making it easier to update or modify specific parts without affecting the entire codebase.  \n",
        "- Changes in a *parent class* automatically reflect in *child classes*, improving maintainability.  \n",
        "\n",
        "---\n",
        "\n",
        "### *3. Enhanced Data Security (Encapsulation)*\n",
        "- OOP uses *encapsulation* to restrict direct access to data, ensuring controlled access via *getters* and *setters*.  \n",
        "- This protects the internal state of objects, improving security.\n",
        "\n",
        "\n",
        "---\n",
        "\n",
        "### *4. Scalability and Flexibility*\n",
        "- OOP makes it easier to *extend* existing code by adding new classes or modifying existing ones.  \n",
        "- This is particularly useful in large projects where software must scale efficiently.\n",
        "\n",
        "---\n",
        "\n",
        "### *5. Faster Development Using Polymorphism*\n",
        "- Polymorphism enables you to write *generic code* that can work with different object types.  \n",
        "- This reduces code duplication and simplifies logic.  \n",
        "\n",
        "\n",
        "---\n",
        "\n",
        "### *6. Improved Collaboration (Teamwork)*\n",
        "- OOP makes large projects more manageable by dividing functionality into *independent classes*.  \n",
        "- Different developers can work on separate classes without conflicts.\n",
        "\n",
        "---\n",
        "\n",
        "### *7. Real-World Modeling*\n",
        "- OOP closely mirrors *real-world entities*, making it easier to design and understand systems.  \n",
        "- Concepts like *classes, **objects, and **inheritance* naturally align with real-world scenarios.\n",
        "\n",
        "---\n",
        "\n",
        "### *8. Easy Debugging*\n",
        "- Since code is organized into *smaller, modular classes*, identifying and fixing issues becomes easier.  \n",
        "- OOP principles like *encapsulation* help isolate problematic code sections.\n",
        "\n",
        "---\n",
        "\n",
        "### *9. Promotes Code Readability and Clarity*\n",
        "- OOP emphasizes writing clean, organized code with meaningful class names and methods.  \n",
        "- This improves code readability, especially in complex systems.\n",
        "\n",
        "---\n",
        "\n",
        "### *10. Supports Key Design Principles*\n",
        "- OOP encourages the use of best practices like:\n",
        "   - *DRY* (Don’t Repeat Yourself)\n",
        "   - *SOLID principles* for better design\n",
        "   - *Design patterns* like Singleton, Factory, etc.\n",
        "\n",
        "---\n",
        "\n"
      ],
      "metadata": {
        "id": "KKcpbnITzvZ-"
      }
    },
    {
      "cell_type": "markdown",
      "source": [
        "Q17: What is the difference between a class variable and an instance variable?"
      ],
      "metadata": {
        "id": "DF7K1-3_zvRd"
      }
    },
    {
      "cell_type": "markdown",
      "source": [
        "Ans: In Python, *class variables* and *instance variables* are two types of attributes used to store data in classes. While they both hold information, they differ in *scope, **behavior, and **usage*.\n",
        "\n",
        "---\n",
        "\n",
        "## *Key Differences Between Class Variables and Instance Variables*\n",
        "\n",
        "| Aspect             | *Class Variable*                     | *Instance Variable*               |\n",
        "|--------------------|-----------------------------------------|-------------------------------------|\n",
        "| *Definition*       | Defined *outside* any method, usually at the top of the class. | Defined *inside the constructor* (__init__) or other instance methods. |\n",
        "| *Scope*             | Shared across *all instances* of the class. | Unique to each *individual instance*. |\n",
        "| *Memory Location*   | Stored in the *class’s namespace* (shared memory). | Stored in the *object’s namespace* (instance-specific memory). |\n",
        "| *Access*            | Accessed using either the *class name* or an *object reference. | Accessed using **only the object reference*. |\n",
        "| *Modification*      | Changes made to a class variable affect *all instances. | Changes made to an instance variable affect **only that specific instance*. |\n",
        "| *Use Case*           | Used for data that should be *common* to all objects (e.g., constants or counters). | Used for data that is *unique* to each object (e.g., names, IDs). |\n",
        "\n",
        "---\n",
        "\n",
        "\n",
        "---\n",
        "\n",
        "## *Key Observations*\n",
        "1. **Class Variable (wheels)**  \n",
        "   - Defined outside the constructor.  \n",
        "   - Accessible using both Car.wheels or car1.wheels.  \n",
        "   - **Change in Car.wheels reflects in all instances.**  \n",
        "\n",
        "2. **Instance Variables (brand and color)**  \n",
        "   - Defined inside the __init__ method.  \n",
        "   - Accessible only via individual object references.  \n",
        "   - **Change in car1.color does not affect car2.color.**  \n",
        "\n",
        "---\n",
        "\n",
        "## *When to Use Each?*\n",
        "✅ *Class Variables:* For data that is *shared* across all objects (e.g., constants, counters, etc.).  \n",
        "✅ *Instance Variables:* For data that is *unique* to each object (e.g., attributes like name, age, etc.).  \n",
        "\n"
      ],
      "metadata": {
        "id": "ldzpbpcnzvMA"
      }
    },
    {
      "cell_type": "markdown",
      "source": [
        "Q18: What is multiple inheritance in Python?"
      ],
      "metadata": {
        "id": "wmbraOvUzvDr"
      }
    },
    {
      "cell_type": "markdown",
      "source": [
        "Ans: *Multiple Inheritance* in Python is a feature that allows a class to inherit from *more than one parent class. This enables the child class to access attributes and methods from **multiple base classes*, combining their functionalities.\n",
        "\n",
        "---\n",
        "\n",
        "\n",
        "\n",
        "## *How Does Multiple Inheritance Work?*\n",
        "\n",
        "When a child class inherits from multiple parents, Python follows a method resolution order (*MRO*) to decide the order in which classes are searched when calling methods or accessing attributes.\n",
        "\n",
        "### *MRO (Method Resolution Order)*\n",
        "- Python uses the *C3 linearization algorithm* to determine the MRO.  \n",
        "- You can check the MRO using the .mro() method or help() function.\n",
        "\n",
        "\n",
        "\n",
        "\n",
        "\n",
        "## *Advantages of Multiple Inheritance*\n",
        "✅ Promotes *code reusability* by combining features from multiple classes.  \n",
        "✅ Encourages *modularity* by breaking code into smaller, manageable parts.  \n",
        "✅ Enables building *complex hierarchies* with minimal code duplication.\n",
        "\n",
        "---\n",
        "\n",
        "## *Disadvantages of Multiple Inheritance*\n",
        "❗Can lead to *conflicts* if multiple parent classes have methods with the same name.  \n",
        "❗Increases complexity when dealing with *diamond problems* (explained below).  \n",
        "\n",
        "---\n",
        "\n",
        "## *What is the Diamond Problem?*\n",
        "The *diamond problem* occurs when multiple inheritance leads to ambiguity in method resolution.\n",
        "\n",
        "\n",
        "\n"
      ],
      "metadata": {
        "id": "cZL0RVQwzu86"
      }
    },
    {
      "cell_type": "markdown",
      "source": [
        "Q19: Explain the purpose of ‘’__str__’ and ‘__repr__’ ‘ methods in Python?"
      ],
      "metadata": {
        "id": "X0mwUQo_zu2v"
      }
    },
    {
      "cell_type": "markdown",
      "source": [
        "Ans: In Python, the **__str__** and **__repr__** methods are special *dunder methods* (double underscore methods) that define how objects are represented as *strings*. Both serve different purposes but are crucial for improving code readability and debugging.\n",
        "\n",
        "---\n",
        "\n",
        "## **1. __str__() Method**\n",
        "The __str__() method is designed to provide a *user-friendly* and *human-readable* string representation of an object.\n",
        "\n",
        "### *Purpose:*  \n",
        "✅ Used when you call print() or str() on an object.  \n",
        "✅ Should provide a clear, easy-to-understand description of the object.  \n",
        "\n",
        "\n",
        "---\n",
        "\n",
        "## **2. __repr__() Method**\n",
        "The __repr__() method is intended for *developers* and provides a more *formal* and *detailed* string representation of an object, typically for debugging.\n",
        "\n",
        "### *Purpose:*  \n",
        "✅ Used when calling repr() or inspecting the object directly in the interactive shell.  \n",
        "✅ Should ideally return a string that can be used to *recreate* the object.  \n",
        "\n",
        "\n",
        "---\n",
        "\n",
        "## **3. Key Differences Between __str__() and __repr__()**\n",
        "\n",
        "| Aspect               | **__str__()**                   | **__repr__()**                 |\n",
        "|----------------------|-----------------------------------|-----------------------------------|\n",
        "| *Purpose*            | Provides a *user-friendly* string for end users. | Provides a *developer-friendly* string for debugging. |\n",
        "| *Called By*           | print(), str()               | repr() or inspecting the object directly. |\n",
        "| *Format*              | Should provide a *clean, **readable* description. | Should ideally return a string that can *recreate the object*. |\n",
        "| *Fallback Behavior*    | If __str__() is missing, Python defaults to __repr__(). | If __repr__() is missing, Python defaults to the object’s memory address. |\n",
        "\n",
        "---\n",
        "\n",
        "\n",
        "\n",
        "## *4. Quick Rule of Thumb*\n",
        "- **__str__()** → For users  \n",
        "- **__repr__()** → For developers  \n"
      ],
      "metadata": {
        "id": "hKkPEArezuwM"
      }
    },
    {
      "cell_type": "markdown",
      "source": [
        "Q20: What is the significance of the ‘super()’ function in Python?"
      ],
      "metadata": {
        "id": "eIh5rdX1zuqF"
      }
    },
    {
      "cell_type": "markdown",
      "source": [
        "Ans: The **super()** function in Python is used to call a *method* from a *parent class* (also known as a superclass) inside a *child class. It is primarily used in **inheritance* to ensure that the parent class’s methods are properly invoked.\n",
        "\n",
        "---\n",
        "\n",
        "## **Purpose of super()**\n",
        "✅ Allows you to call methods from a *parent class* without explicitly naming the parent class.  \n",
        "✅ Ensures *method resolution order (MRO)* is followed, especially in *multiple inheritance* scenarios.  \n",
        "✅ Promotes code reusability and helps avoid redundant code.  \n",
        "\n",
        "---\n",
        "\n",
        "## **Syntax of super()**\n",
        "python\n",
        "super().method_name(arguments)\n",
        "\n",
        "\n",
        "---\n",
        "\n",
        "\n",
        "\n",
        "\n",
        "\n",
        "## **Benefits of Using super()**\n",
        "✅ Ensures *cleaner code* by avoiding hardcoded parent class names.  \n",
        "✅ Helps maintain *scalability* when modifying class hierarchies.  \n",
        "✅ Prevents *redundancy* by reusing methods and properties from parent classes.  \n",
        "✅ Ensures proper *MRO* handling in complex inheritance chains.  \n",
        "\n",
        "---\n",
        "\n",
        "## **When to Use super()?**\n",
        "- In *constructor chaining* when initializing base class attributes.  \n",
        "- In *method overriding* when you need to extend the parent class’s functionality.  \n",
        "- In *multiple inheritance* to manage MRO effectively.\n",
        "\n",
        "---\n"
      ],
      "metadata": {
        "id": "rv_wEBwBzukS"
      }
    },
    {
      "cell_type": "markdown",
      "source": [
        "Q21:  What is the significance of the __del__ method in Python?"
      ],
      "metadata": {
        "id": "fRd_Q16Azuek"
      }
    },
    {
      "cell_type": "markdown",
      "source": [
        "Ans: The **__del__()** method in Python is a *destructor* method that is automatically called when an object is about to be *destroyed. It is part of Python's memory management system and is typically used for **cleanup actions* such as closing files, releasing network connections, or freeing up other system resources.\n",
        "\n",
        "---\n",
        "\n",
        "## **Purpose of __del__()**\n",
        "✅ Used to define *final cleanup tasks* before an object is deleted.  \n",
        "✅ Helps release *external resources* that Python’s garbage collector may not automatically handle.  \n",
        "✅ Useful in classes that manage resources like *file handles, **database connections, or **network sockets*.\n",
        "\n",
        "---\n",
        "\n",
        "\n",
        "\n",
        "## **Characteristics of __del__()**\n",
        "✅ *Automatic Call:* Triggered automatically when an object’s *reference count reaches zero* (i.e., no more references exist).  \n",
        "✅ *Resource Management:* Commonly used for tasks like *closing files, **releasing locks, or **disconnecting from databases*.  \n",
        "✅ *Garbage Collection Dependent:* Python’s garbage collector determines the exact timing of object deletion, meaning __del__() may not run immediately.  \n",
        "\n",
        "---\n",
        "\n",
        "\n",
        "\n",
        "## **When to Use __del__()?**\n",
        "✅ For *debugging* purposes to track object deletion.  \n",
        "✅ When working with *external resources* that Python’s garbage collector doesn’t handle well.  \n",
        "✅ In rare cases where *context managers* aren't practical.\n",
        "\n",
        "---"
      ],
      "metadata": {
        "id": "uLjNuWvazuXg"
      }
    },
    {
      "cell_type": "markdown",
      "source": [
        "Q22: What is the difference between @staticmethod and @classmethod in Python?"
      ],
      "metadata": {
        "id": "6bgVX3kS-azi"
      }
    },
    {
      "cell_type": "markdown",
      "source": [
        "Ans: In Python, **@staticmethod** and **@classmethod** are decorators used to define methods inside a class. While both can be called directly from the class without creating an object, they serve different purposes.\n",
        "\n",
        "---\n",
        "\n",
        "## **Key Differences Between @staticmethod and @classmethod**\n",
        "\n",
        "| Feature            | **@staticmethod**            | **@classmethod**             |\n",
        "|--------------------|--------------------------------|--------------------------------|\n",
        "| *Binding*          | Not bound to the class or instance; acts like a regular function inside the class. | Bound to the *class* and takes cls as its first argument. |\n",
        "| *Access to Class State* | Cannot modify or access the class's state (e.g., class variables). | Can modify and access the class's state (e.g., class variables). |\n",
        "| *Access to Instance Variables* | Cannot access or modify instance-specific data. | Cannot access instance-specific data directly, but can modify class-level attributes. |\n",
        "| *Usage*             | Used for utility/helper methods that don’t rely on class or instance data. | Used when a method needs access to class-level data or needs to modify the class itself. |\n",
        "| *Decorator*         | @staticmethod | @classmethod |\n",
        "\n",
        "---\n",
        "\n",
        "\n",
        "\n",
        "\n",
        "---\n",
        "\n",
        "\n",
        "\n",
        "## *When to Use Each?*\n",
        "\n",
        "| Use Case | Recommended Method |\n",
        "|-----------|-------------------|\n",
        "| Utility functions that don’t depend on class or instance data. | @staticmethod |\n",
        "| Factory methods that create class instances or modify class-level data. | @classmethod |\n",
        "\n",
        "---\n",
        "\n",
        "## *Quick Rule of Thumb*\n",
        "- Use @staticmethod when you don’t need access to class or instance data.  \n",
        "- Use @classmethod when you need to modify or interact with class-level attributes.\n",
        "\n"
      ],
      "metadata": {
        "id": "HAG2a9ga-dLd"
      }
    },
    {
      "cell_type": "markdown",
      "source": [
        "Q23: How does polymorphism work in Python with inheritance?"
      ],
      "metadata": {
        "id": "IyfPgjzG-eWL"
      }
    },
    {
      "cell_type": "markdown",
      "source": [
        "Ans: In Python, *polymorphism* allows objects of different classes to be treated as objects of a common superclass. It enables methods with the *same name* to behave *differently* based on the object calling them.  \n",
        "\n",
        "In the context of *inheritance, polymorphism is typically achieved using **method overriding*.\n",
        "\n",
        "---\n",
        "\n",
        "## *How Polymorphism Works with Inheritance*\n",
        "Polymorphism allows child classes to provide their *own implementation* of a method that is already defined in the *parent class. This is called **method overriding*.\n",
        "\n",
        "### *Key Principles of Polymorphism with Inheritance*\n",
        "✅ Methods in child classes have the *same name* as methods in the parent class.  \n",
        "✅ Python’s *dynamic typing* allows objects of different classes to be used interchangeably if they share a common interface (method name).  \n",
        "✅ Supports *run-time polymorphism, meaning method calls are resolved at **runtime*.\n",
        "\n",
        "---\n",
        "\n",
        "\n",
        "### *Why Use Abstract Classes for Polymorphism?*\n",
        "✅ Ensures all derived classes implement the required methods.  \n",
        "✅ Prevents incomplete class definitions by enforcing method signatures.\n",
        "\n",
        "---\n",
        "\n",
        "## * Benefits of Polymorphism in Python*\n",
        "✅ Enables *code reusability* by allowing common functions to handle different object types.  \n",
        "✅ Improves *flexibility* by promoting loosely coupled code.  \n",
        "✅ Makes the codebase *scalable* by allowing new classes to be added without modifying existing logic.  \n",
        "\n",
        "---\n",
        "\n",
        "\n",
        "\n"
      ],
      "metadata": {
        "id": "ycKATDDi-fIa"
      }
    },
    {
      "cell_type": "markdown",
      "source": [
        "Q24: What is method chaining in Python OOP?"
      ],
      "metadata": {
        "id": "rMnb53rO_Jxb"
      }
    },
    {
      "cell_type": "markdown",
      "source": [
        "Ans: *Method chaining* in Python refers to calling *multiple methods on the same object* in a *single line of code. This technique is common in **object-oriented programming (OOP)* and is especially useful for improving code readability and efficiency.\n",
        "\n",
        "---\n",
        "\n",
        "## *How Method Chaining Works*\n",
        "Method chaining relies on each method returning the *object itself* (usually using return self). This allows successive method calls to be chained together.\n",
        "\n",
        "---\n",
        "\n",
        "\n",
        "\n",
        "## * Benefits of Method Chaining*\n",
        "✅ Enhances *code readability* by reducing the number of lines.  \n",
        "✅ Promotes a *fluent interface* design, improving code flow.  \n",
        "✅ Useful in scenarios like *data manipulation, **web frameworks, or **building complex queries*.  \n",
        "\n",
        "---\n",
        "\n",
        "\n",
        "\n",
        "## *Uses of Method Chaining*\n",
        "✅ For *builder patterns* or *fluent interfaces*.  \n",
        "✅ In *data transformation* pipelines (e.g., pandas, SQLAlchemy).  \n",
        "✅ For *configuration-style code* where multiple properties need to be set consecutively.  \n",
        "\n",
        "---\n",
        "\n",
        "## *disadvantage of Method Chaining*\n",
        "❗ Overusing method chaining can reduce *readability*, especially if chains become too long or complex.  \n",
        "❗ Debugging chained methods can be more challenging if errors occur midway.  \n",
        "\n",
        "---\n",
        "\n"
      ],
      "metadata": {
        "id": "K5_RrXF7_Kr_"
      }
    },
    {
      "cell_type": "markdown",
      "source": [
        "Q25: What is the purpose of the __call__ method in Python?"
      ],
      "metadata": {
        "id": "lg2m85kP_Lkw"
      }
    },
    {
      "cell_type": "markdown",
      "source": [
        "Ans: In Python, the **__call__()** method is a *special (dunder) method* that allows an instance of a class to be called like a *function*.  \n",
        "\n",
        "By defining __call__() in your class, you can create *callable objects* — objects that behave like functions but also maintain state or additional behavior.\n",
        "\n",
        "---\n",
        "\n",
        "## **Syntax of __call__()**\n",
        "python\n",
        "class ClassName:\n",
        "    def __call__(self, *args, **kwargs):\n",
        "        # Code to execute when the object is called\n",
        "        return some_value\n",
        "\n",
        "\n",
        "---\n",
        "\n",
        "## **How __call__() Works**\n",
        "- When an object is called like a function (object_name()), Python automatically invokes the **__call__()** method.\n",
        "- This method can accept *any number of arguments*, similar to regular functions.\n",
        "\n",
        "---\n",
        "\n",
        "\n",
        "\n",
        "## Use of __call__()\n",
        "✅ When you want your class instances to behave like *functions*.  \n",
        "✅ When you need to create *stateful function objects* (e.g., counters, accumulators).  \n",
        "✅ In *decorators* implemented as classes.  \n",
        "✅ For *custom callable objects* in functional programming patterns.\n",
        "\n",
        "---\n"
      ],
      "metadata": {
        "id": "d-B9_vEH_Mtq"
      }
    },
    {
      "cell_type": "markdown",
      "source": [
        "#* PRACTICALS QUESTIONS*#"
      ],
      "metadata": {
        "id": "WcBNFbkwe1kB"
      }
    },
    {
      "cell_type": "markdown",
      "source": [
        "Q1: Create a parent class Animal with a method speak() that prints a generic message. Create a child class Dog\n",
        "that overrides the speak() method to print \"Bark!\"."
      ],
      "metadata": {
        "id": "z2Z-_kuae9bw"
      }
    },
    {
      "cell_type": "code",
      "source": [
        "# Parent class\n",
        "class Animal:\n",
        "    def speak(self):\n",
        "        print(\"This animal makes a sound.\")\n",
        "\n",
        "# Child class\n",
        "class Dog(Animal):\n",
        "    def speak(self):\n",
        "        print(\"Bark\")\n",
        "\n",
        "\n",
        "animal = Animal()\n",
        "animal.speak()  # Output: This animal makes a sound.\n",
        "\n",
        "dog = Dog()\n",
        "dog.speak()     # Output: Bark"
      ],
      "metadata": {
        "id": "kWhLEzG9fAZU",
        "colab": {
          "base_uri": "https://localhost:8080/"
        },
        "outputId": "7f87f4ac-901f-4f7e-d907-86dff2647819"
      },
      "execution_count": null,
      "outputs": [
        {
          "output_type": "stream",
          "name": "stdout",
          "text": [
            "This animal makes a sound.\n",
            "Bark\n"
          ]
        }
      ]
    },
    {
      "cell_type": "markdown",
      "source": [
        "Q2: Write a program to create an abstract class Shape with a method area(). Derive classes Circle and Rectangle\n",
        "from it and implement the area() method in both."
      ],
      "metadata": {
        "id": "NN43rCaMfCaw"
      }
    },
    {
      "cell_type": "code",
      "source": [
        "from abc import ABC, abstractmethod\n",
        "import math\n",
        "\n",
        "# Abstract class\n",
        "class Shape(ABC):\n",
        "    @abstractmethod\n",
        "    def area(self):\n",
        "        pass  # Abstract method - must be implemented by child classes\n",
        "\n",
        "# Circle class inheriting from Shape\n",
        "class Circle(Shape):\n",
        "    def __init__(self, radius):\n",
        "        self.radius = radius\n",
        "\n",
        "    def area(self):\n",
        "        return math.pi * self.radius ** 2\n",
        "\n",
        "# Rectangle class inheriting from Shape\n",
        "class Rectangle(Shape):\n",
        "    def __init__(self, length, width):\n",
        "        self.length = length\n",
        "        self.width = width\n",
        "\n",
        "    def area(self):\n",
        "        return self.length * self.width\n",
        "\n",
        "# Example usage\n",
        "circle = Circle(5)\n",
        "print(f\"Area of Circle: {circle.area():.2f}\")\n",
        "\n",
        "rectangle = Rectangle(4, 6)\n",
        "print(f\"Area of Rectangle: {rectangle.area()}\")\n"
      ],
      "metadata": {
        "id": "qYBEdk8bfEIH",
        "colab": {
          "base_uri": "https://localhost:8080/"
        },
        "outputId": "d6760b99-0cc7-4e82-a11b-6e94da8fa04c"
      },
      "execution_count": 30,
      "outputs": [
        {
          "output_type": "stream",
          "name": "stdout",
          "text": [
            "Area of Circle: 78.54\n",
            "Area of Rectangle: 24\n"
          ]
        }
      ]
    },
    {
      "cell_type": "markdown",
      "source": [
        "Q3: Implement a multi-level inheritance scenario where a class Vehicle has an attribute type. Derive a class Car\n",
        "and further derive a class ElectricCar that adds a battery attribute.\n",
        "\n"
      ],
      "metadata": {
        "id": "PLamW9VpfGNK"
      }
    },
    {
      "cell_type": "code",
      "source": [
        "# Base class\n",
        "class Vehicle:\n",
        "    def __init__(self, vehicle_type):\n",
        "        self.type = vehicle_type\n",
        "\n",
        "    def show_type(self):\n",
        "        print(f\"Vehicle type: {self.type}\")\n",
        "\n",
        "# Derived class (inherits from Vehicle)\n",
        "class Car(Vehicle):\n",
        "    def __init__(self, brand, model, vehicle_type=\"Car\"): # Changed _init_ to __init__\n",
        "        super().__init__(vehicle_type)\n",
        "        self.brand = brand\n",
        "        self.model = model\n",
        "\n",
        "    def show_details(self):\n",
        "        print(f\"Car Brand: {self.brand}, Model: {self.model}\")\n",
        "\n",
        "# Further derived class (inherits from Car)\n",
        "class ElectricCar(Car):\n",
        "    def __init__(self, brand, model, battery_capacity):\n",
        "        super().__init__(brand, model)\n",
        "        self.battery = battery_capacity\n",
        "\n",
        "    def show_battery(self):\n",
        "        print(f\"Battery Capacity: {self.battery} kWh\")\n",
        "\n",
        "# Example usage\n",
        "vehicle = Vehicle(\"Truck\")\n",
        "vehicle.show_type()\n",
        "\n",
        "car = Car(\"Toyota\", \"Corolla\")\n",
        "car.show_type()  # Inherited method\n",
        "car.show_details()\n",
        "\n",
        "electric_car = ElectricCar(\"Tesla\", \"Model 3\", 75)\n",
        "electric_car.show_type()     # Inherited from Vehicle\n",
        "electric_car.show_details()  # Inherited from Car\n",
        "electric_car.show_battery()  # ElectricCar's own method"
      ],
      "metadata": {
        "id": "ykNZN5k0fI50",
        "colab": {
          "base_uri": "https://localhost:8080/"
        },
        "outputId": "def1cf6c-8e3e-43d5-e5b4-187a79fee633"
      },
      "execution_count": 29,
      "outputs": [
        {
          "output_type": "stream",
          "name": "stdout",
          "text": [
            "Vehicle type: Truck\n",
            "Vehicle type: Car\n",
            "Car Brand: Toyota, Model: Corolla\n",
            "Vehicle type: Car\n",
            "Car Brand: Tesla, Model: Model 3\n",
            "Battery Capacity: 75 kWh\n"
          ]
        }
      ]
    },
    {
      "cell_type": "markdown",
      "source": [
        "Q4: Demonstrate polymorphism by creating a base class Bird with a method fly(). Create two derived classes\n",
        "Sparrow and Penguin that override the fly() method.\n",
        "\n",
        "\n"
      ],
      "metadata": {
        "id": "zUNd6lY7fKI_"
      }
    },
    {
      "cell_type": "code",
      "source": [
        "# Base class\n",
        "class Bird:\n",
        "    def fly(self):\n",
        "        print(\"Birds can generally fly.\")\n",
        "\n",
        "# Derived class 1\n",
        "class Sparrow(Bird):\n",
        "    def fly(self):\n",
        "        print(\"Sparrow flies swiftly in the sky.\")\n",
        "\n",
        "# Derived class 2\n",
        "class Penguin(Bird):\n",
        "    def fly(self):\n",
        "        print(\"Penguins cannot fly, but they swim very well.\")\n",
        "\n",
        "# Function demonstrating polymorphism\n",
        "def demonstrate_flight(bird):\n",
        "    bird.fly()\n",
        "\n",
        "# Example usage\n",
        "bird = Bird()\n",
        "sparrow = Sparrow()\n",
        "penguin = Penguin()\n",
        "\n",
        "# Demonstrating polymorphism\n",
        "demonstrate_flight(bird)      # Output: Birds can generally fly.\n",
        "demonstrate_flight(sparrow)   # Output: Sparrow flies swiftly in the sky.\n",
        "demonstrate_flight(penguin)   # Output: Penguins cannot fly, but they swim very well."
      ],
      "metadata": {
        "id": "tGhulj3qfMJo",
        "colab": {
          "base_uri": "https://localhost:8080/"
        },
        "outputId": "8dfcbd24-f4dc-4ea9-b399-7ce9ec582db4"
      },
      "execution_count": 1,
      "outputs": [
        {
          "output_type": "stream",
          "name": "stdout",
          "text": [
            "Birds can generally fly.\n",
            "Sparrow flies swiftly in the sky.\n",
            "Penguins cannot fly, but they swim very well.\n"
          ]
        }
      ]
    },
    {
      "cell_type": "markdown",
      "source": [
        "Q5: Write a program to demonstrate encapsulation by creating a class BankAccount with private attributes\n",
        "balance and methods to deposit, withdraw, and check balance.\n",
        "\n",
        "\n"
      ],
      "metadata": {
        "id": "4SvkaopkfNTD"
      }
    },
    {
      "cell_type": "code",
      "source": [
        "class BankAccount:\n",
        "    def __init__(self, initial_balance=0):\n",
        "        # Private attribute (encapsulation)\n",
        "        self.__balance = initial_balance\n",
        "\n",
        "    # Method to deposit money\n",
        "    def deposit(self, amount):\n",
        "        if amount > 0:\n",
        "            self.__balance += amount\n",
        "            print(f\"Deposited: ${amount}\")\n",
        "        else:\n",
        "            print(\"Invalid deposit amount.\")\n",
        "\n",
        "    # Method to withdraw money\n",
        "    def withdraw(self, amount):\n",
        "        if 0 < amount <= self.__balance:\n",
        "            self.__balance -= amount\n",
        "            print(f\"Withdrew: ${amount}\")\n",
        "        elif amount > self.__balance:\n",
        "            print(\"Insufficient balance.\")\n",
        "        else:\n",
        "            print(\"Invalid withdrawal amount.\")\n",
        "\n",
        "    # Method to check balance\n",
        "    def check_balance(self):\n",
        "        print(f\"Current Balance: ${self.__balance}\")\n",
        "\n",
        "# Example usage\n",
        "account = BankAccount(100)  # Starting balance = $100\n",
        "\n",
        "account.check_balance()     # Output: Current Balance: $100\n",
        "account.deposit(50)         # Output: Deposited: $50\n",
        "account.check_balance()     # Output: Current Balance: $150\n",
        "\n",
        "account.withdraw(30)        # Output: Withdrew: $30\n",
        "account.check_balance()     # Output: Current Balance: $120\n",
        "\n",
        "account.withdraw(200)       # Output: Insufficient balance.\n",
        "account.check_balance()     # Output: Current Balance: $120"
      ],
      "metadata": {
        "id": "sWalUhP8fPNh",
        "colab": {
          "base_uri": "https://localhost:8080/"
        },
        "outputId": "3ec8ce7c-d5c6-457a-d4de-6d2d5723b6d5"
      },
      "execution_count": 25,
      "outputs": [
        {
          "output_type": "stream",
          "name": "stdout",
          "text": [
            "Current Balance: $100\n",
            "Deposited: $50\n",
            "Current Balance: $150\n",
            "Withdrew: $30\n",
            "Current Balance: $120\n",
            "Insufficient balance.\n",
            "Current Balance: $120\n"
          ]
        }
      ]
    },
    {
      "cell_type": "markdown",
      "source": [
        "Q6: Demonstrate runtime polymorphism using a method play() in a base class Instrument. Derive classes Guitar\n",
        "and Piano that implement their own version of play().\n",
        "\n",
        "\n"
      ],
      "metadata": {
        "id": "7nZ2R9vffQ6j"
      }
    },
    {
      "cell_type": "code",
      "source": [
        "# Base class\n",
        "class Instrument:\n",
        "    def play(self):\n",
        "        print(\"Playing an instrument.\")\n",
        "\n",
        "# Derived class 1\n",
        "class Guitar(Instrument):\n",
        "    def play(self):\n",
        "        print(\"Strumming the guitar... 🎸\")\n",
        "\n",
        "# Derived class 2\n",
        "class Piano(Instrument):\n",
        "    def play(self):\n",
        "        print(\"Playing the piano... 🎹\")\n",
        "\n",
        "# Function demonstrating runtime polymorphism\n",
        "def play_instrument(instrument):\n",
        "    instrument.play()  # Calls the appropriate play() method based on the object's class\n",
        "\n",
        "# Example usage\n",
        "instrument = Instrument()\n",
        "guitar = Guitar()\n",
        "piano = Piano()\n",
        "\n",
        "# Demonstrating polymorphism\n",
        "play_instrument(instrument)\n",
        "play_instrument(guitar)\n",
        "play_instrument(piano)"
      ],
      "metadata": {
        "id": "iEhqy5P-fSbs",
        "colab": {
          "base_uri": "https://localhost:8080/"
        },
        "outputId": "8a5c9df7-ede0-42fb-8414-834d8b502c41"
      },
      "execution_count": 6,
      "outputs": [
        {
          "output_type": "stream",
          "name": "stdout",
          "text": [
            "Playing an instrument.\n",
            "Strumming the guitar... 🎸\n",
            "Playing the piano... 🎹\n"
          ]
        }
      ]
    },
    {
      "cell_type": "markdown",
      "source": [
        "Q7: Create a class MathOperations with a class method add_numbers() to add two numbers and a static\n",
        "method subtract_numbers() to subtract two numbers.\n"
      ],
      "metadata": {
        "id": "mvZzzdsSfTIT"
      }
    },
    {
      "cell_type": "code",
      "source": [
        "class MathOperation:\n",
        "    # Class method to add two numbers\n",
        "    @classmethod\n",
        "    def add_number(cls, a, b):\n",
        "        return a + b\n",
        "\n",
        "    # Static method to subtract two numbers\n",
        "    @staticmethod\n",
        "    def subtract_number(a, b):\n",
        "        return a - b\n",
        "\n",
        "# Example usage\n",
        "print(f\"Addition: {MathOperation.add_number(5, 3)}\")\n",
        "print(f\"Subtraction: {MathOperation.subtract_number(10, 4)}\")"
      ],
      "metadata": {
        "id": "F8lokrA2fVGx",
        "colab": {
          "base_uri": "https://localhost:8080/"
        },
        "outputId": "999cd0d2-9c08-4190-8d21-c76886c0434c"
      },
      "execution_count": 7,
      "outputs": [
        {
          "output_type": "stream",
          "name": "stdout",
          "text": [
            "Addition: 8\n",
            "Subtraction: 6\n"
          ]
        }
      ]
    },
    {
      "cell_type": "markdown",
      "source": [
        "Q8: Implement a class Person with a class method to count the total number of persons created.\n"
      ],
      "metadata": {
        "id": "KWLvN_GffWEg"
      }
    },
    {
      "cell_type": "code",
      "source": [
        "class Person:\n",
        "    # Class attribute to keep track of the number of instances\n",
        "    count = 0\n",
        "\n",
        "    def __init__(self, name): # Corrected constructor name to __init__\n",
        "        self.name = name\n",
        "        Person.count += 1  # Increment count each time a new object is created\n",
        "\n",
        "    # Class method to get the total count of Person objects\n",
        "    @classmethod\n",
        "    def total_persons(cls):\n",
        "        print(f\"Total number of persons created: {cls.count}\")\n",
        "\n",
        "# Example usage\n",
        "person1 = Person(\"Alice\")\n",
        "person2 = Person(\"Bob\")\n",
        "person3 = Person(\"Charlie\")\n",
        "\n",
        "# Display the total number of persons\n",
        "Person.total_persons()  # Output: Total number of persons created: 3"
      ],
      "metadata": {
        "id": "6YG2ttTdfaww",
        "colab": {
          "base_uri": "https://localhost:8080/"
        },
        "outputId": "73c2e43f-561e-4ff0-c0e3-dc1d4b38e6ad"
      },
      "execution_count": 9,
      "outputs": [
        {
          "output_type": "stream",
          "name": "stdout",
          "text": [
            "Total number of persons created: 3\n"
          ]
        }
      ]
    },
    {
      "cell_type": "markdown",
      "source": [
        "Q9: Write a class Fraction with attributes numerator and denominator. Override the str method to display the\n",
        "fraction as \"numerator/denominator\"."
      ],
      "metadata": {
        "id": "v5By9oiofbs4"
      }
    },
    {
      "cell_type": "code",
      "source": [
        "class Fraction:\n",
        "    def __init__(self, numerator, denominator): # Changed _init_ to __init__\n",
        "        self.numerator = numerator\n",
        "        if denominator == 0:\n",
        "            raise ValueError(\"Denominator cannot be zero.\")\n",
        "        self.denominator = denominator\n",
        "\n",
        "    # Overriding the __str__ method # Changed _str_ to __str__\n",
        "    def __str__(self):\n",
        "        return f\"{self.numerator}/{self.denominator}\"\n",
        "\n",
        "# Example usage\n",
        "fraction1 = Fraction(3, 4)\n",
        "print(f\"Fraction 1: {fraction1}\")\n",
        "\n",
        "fraction2 = Fraction(5, 8)\n",
        "print(f\"Fraction 2: {fraction2}\")"
      ],
      "metadata": {
        "id": "THsb-IR3feqw",
        "colab": {
          "base_uri": "https://localhost:8080/"
        },
        "outputId": "c04fffb2-d27b-45c4-f8aa-e7425919581d"
      },
      "execution_count": 11,
      "outputs": [
        {
          "output_type": "stream",
          "name": "stdout",
          "text": [
            "Fraction 1: 3/4\n",
            "Fraction 2: 5/8\n"
          ]
        }
      ]
    },
    {
      "cell_type": "markdown",
      "source": [
        "Q10: Demonstrate operator overloading by creating a class Vector and overriding the add method to add two\n",
        "vectors.\n"
      ],
      "metadata": {
        "id": "sdxOKMlGff1e"
      }
    },
    {
      "cell_type": "code",
      "source": [
        "class Vector:\n",
        "    def __init__(self, x, y):\n",
        "        self.x = x\n",
        "        self.y = y\n",
        "\n",
        "    # Overloading the '+' operator\n",
        "    def __add__(self, other):\n",
        "        if isinstance(other, Vector):  # Ensure the other object is also a Vector\n",
        "            return Vector(self.x + other.x, self.y + other.y)\n",
        "        return NotImplemented\n",
        "\n",
        "    # Overriding _str_ method to display vector in a clean format\n",
        "    def __str__(self):\n",
        "        return f\"Vector({self.x}, {self.y})\"\n",
        "\n",
        "# Example usage\n",
        "v1 = Vector(2, 3)\n",
        "v2 = Vector(4, 1)\n",
        "\n",
        "v3 = v1 + v2  # Using overloaded '+' operator\n",
        "print(f\"v1: {v1}\")  # Output: v1: Vector(2, 3)\n",
        "print(f\"v2: {v2}\")  # Output: v2: Vector(4, 1)\n",
        "print(f\"v1 + v2: {v3}\")  # Output: v1 + v2: Vector(6, 4)"
      ],
      "metadata": {
        "id": "TZzcQZBrfiZP",
        "colab": {
          "base_uri": "https://localhost:8080/"
        },
        "outputId": "9d7400c9-6aae-4d3b-d922-9162a8fe2dde"
      },
      "execution_count": 14,
      "outputs": [
        {
          "output_type": "stream",
          "name": "stdout",
          "text": [
            "v1: Vector(2, 3)\n",
            "v2: Vector(4, 1)\n",
            "v1 + v2: Vector(6, 4)\n"
          ]
        }
      ]
    },
    {
      "cell_type": "markdown",
      "source": [
        "Q11:  Create a class Person with attributes name and age. Add a method greet() that prints \"Hello, my name is\n",
        "{name} and I am {age} years old.\"\n",
        "\n",
        "\n"
      ],
      "metadata": {
        "id": "6PfaXxnhfjcs"
      }
    },
    {
      "cell_type": "code",
      "source": [
        "class Person:\n",
        "    def __init__(self, name, age):\n",
        "        self.name = name\n",
        "        self.age = age\n",
        "\n",
        "    # Method to greet\n",
        "    def greet(self):\n",
        "        print(f\"Hello, my name is {self.name} and I am {self.age} years old.\")\n",
        "\n",
        "# Example usage\n",
        "person1 = Person(\"Alice\", 30)\n",
        "person1.greet()  # Output: Hello, my name is Alice and I am 30 years old.\n",
        "\n",
        "person2 = Person(\"Bob\", 25)\n",
        "person2.greet()  # Output: Hello, my name is Bob and I am 25 years old."
      ],
      "metadata": {
        "id": "JDbUK0ibfkvQ",
        "colab": {
          "base_uri": "https://localhost:8080/"
        },
        "outputId": "a1635081-b6d3-446d-f6ef-fa28fe7f5d35"
      },
      "execution_count": 15,
      "outputs": [
        {
          "output_type": "stream",
          "name": "stdout",
          "text": [
            "Hello, my name is Alice and I am 30 years old.\n",
            "Hello, my name is Bob and I am 25 years old.\n"
          ]
        }
      ]
    },
    {
      "cell_type": "markdown",
      "source": [
        "Q12: Implement a class Student with attributes name and grades. Create a method average_grade() to compute\n",
        "the average of the grades.\n"
      ],
      "metadata": {
        "id": "BEZsX5MvflWT"
      }
    },
    {
      "cell_type": "code",
      "source": [
        "class Student:\n",
        "    def __init__(self, name, grades):\n",
        "        self.name = name\n",
        "        self.grades = grades  # List of grades\n",
        "\n",
        "    # Method to calculate the average grade\n",
        "    def average_grade(self):\n",
        "        if self.grades:  # Ensure the list is not empty to avoid division by zero\n",
        "            return sum(self.grades) / len(self.grades)\n",
        "        else:\n",
        "            return 0  # Return 0 if no grades are present\n",
        "\n",
        "    # Method to display student details\n",
        "    def display_info(self):\n",
        "        print(f\"Student Name: {self.name}\")\n",
        "        print(f\"Grades: {self.grades}\")\n",
        "        print(f\"Average Grade: {self.average_grade():.2f}\")\n",
        "\n",
        "# Example usage\n",
        "student1 = Student(\"Alice\", [85, 90, 78])\n",
        "student2 = Student(\"Bob\", [70, 88, 95, 82])\n",
        "\n",
        "# Display student information\n",
        "student1.display_info()\n",
        "print()\n",
        "student2.display_info()"
      ],
      "metadata": {
        "id": "DHjBwLWgfnWr",
        "colab": {
          "base_uri": "https://localhost:8080/"
        },
        "outputId": "cb6094dc-6683-4ddf-8671-904be04868bf"
      },
      "execution_count": 16,
      "outputs": [
        {
          "output_type": "stream",
          "name": "stdout",
          "text": [
            "Student Name: Alice\n",
            "Grades: [85, 90, 78]\n",
            "Average Grade: 84.33\n",
            "\n",
            "Student Name: Bob\n",
            "Grades: [70, 88, 95, 82]\n",
            "Average Grade: 83.75\n"
          ]
        }
      ]
    },
    {
      "cell_type": "markdown",
      "source": [
        "Q13: Create a class Rectangle with methods set_dimensions() to set the dimensions and area() to calculate the\n",
        "area.\n"
      ],
      "metadata": {
        "id": "py-EF4jefosm"
      }
    },
    {
      "cell_type": "code",
      "source": [
        "class Rectangle:\n",
        "    def __init__(self):\n",
        "        self.length = 0\n",
        "        self.width = 0\n",
        "\n",
        "    # Method to set dimensions\n",
        "    def set_dimension(self, length, width):\n",
        "        if length > 0 and width > 0:\n",
        "            self.length = length\n",
        "            self.width = width\n",
        "        else:\n",
        "            print(\"Dimensions must be positive values.\")\n",
        "\n",
        "    # Method to calculate the area\n",
        "    def area(self):\n",
        "        return self.length * self.width\n",
        "\n",
        "    # Method to display rectangle details\n",
        "    def display_info(self):\n",
        "        print(f\"Length: {self.length}\")\n",
        "        print(f\"Width: {self.width}\")\n",
        "        print(f\"Area: {self.area()}\")\n",
        "\n",
        "# Example usage\n",
        "rect1 = Rectangle()\n",
        "rect1.set_dimension(5, 10)\n",
        "rect1.display_info()\n",
        "\n",
        "print()\n",
        "\n",
        "rect2 = Rectangle()\n",
        "rect2.set_dimension(7, 3)\n",
        "rect2.display_info()"
      ],
      "metadata": {
        "id": "bt_O6K9ZfqCB",
        "colab": {
          "base_uri": "https://localhost:8080/"
        },
        "outputId": "a5a686a2-6d26-4287-83b5-d006c6450678"
      },
      "execution_count": 17,
      "outputs": [
        {
          "output_type": "stream",
          "name": "stdout",
          "text": [
            "Length: 5\n",
            "Width: 10\n",
            "Area: 50\n",
            "\n",
            "Length: 7\n",
            "Width: 3\n",
            "Area: 21\n"
          ]
        }
      ]
    },
    {
      "cell_type": "markdown",
      "source": [
        "Q14: Create a class Employee with a method calculate_salary() that computes the salary based on hours worked\n",
        "and hourly rate. Create a derived class Manager that adds a bonus to the salary.\n",
        "\n"
      ],
      "metadata": {
        "id": "tXJuO_v4fqvF"
      }
    },
    {
      "cell_type": "code",
      "source": [
        "# Base class\n",
        "class Employee:\n",
        "    def __init__(self, name, hours_worked, hourly_rate):\n",
        "        self.name = name\n",
        "        self.hours_worked = hours_worked\n",
        "        self.hourly_rate = hourly_rate\n",
        "\n",
        "    # Method to calculate salary\n",
        "    def calculate_salary(self):\n",
        "        return self.hours_worked * self.hourly_rate\n",
        "\n",
        "    # Display employee details\n",
        "    def display_info(self):\n",
        "        print(f\"Employee Name: {self.name}\")\n",
        "        print(f\"Hours Worked: {self.hours_worked}\")\n",
        "        print(f\"Hourly Rate: ${self.hourly_rate}\")\n",
        "        print(f\"Salary: ${self.calculate_salary():.2f}\")\n",
        "\n",
        "# Derived class (Manager) that adds a bonus\n",
        "class Manager(Employee):\n",
        "    def __init__(self, name, hours_worked, hourly_rate, bonus):\n",
        "        super().__init__(name, hours_worked, hourly_rate)\n",
        "        self.bonus = bonus\n",
        "\n",
        "    # Overriding calculate_salary method to include bonus\n",
        "    def calculate_salary(self):\n",
        "        return super().calculate_salary() + self.bonus\n",
        "\n",
        "    # Display manager details\n",
        "    def display_info(self):\n",
        "        super().display_info()\n",
        "        print(f\"Bonus: ${self.bonus}\")\n",
        "        print(f\"Total Salary (with Bonus): ${self.calculate_salary():.2f}\")\n",
        "\n",
        "# Example usage\n",
        "employee = Employee(\"Alice\", 40, 20)  # 40 hours at $20/hour\n",
        "employee.display_info()\n",
        "\n",
        "print()\n",
        "\n",
        "manager = Manager(\"Bob\", 40, 30, 500)  # 40 hours at $30/hour + $500 bonus\n",
        "manager.display_info()"
      ],
      "metadata": {
        "id": "UAwL1AiqftG5",
        "colab": {
          "base_uri": "https://localhost:8080/"
        },
        "outputId": "b481a65d-b677-4663-c059-e24dbfc3a4be"
      },
      "execution_count": 19,
      "outputs": [
        {
          "output_type": "stream",
          "name": "stdout",
          "text": [
            "Employee Name: Alice\n",
            "Hours Worked: 40\n",
            "Hourly Rate: $20\n",
            "Salary: $800.00\n",
            "\n",
            "Employee Name: Bob\n",
            "Hours Worked: 40\n",
            "Hourly Rate: $30\n",
            "Salary: $1700.00\n",
            "Bonus: $500\n",
            "Total Salary (with Bonus): $1700.00\n"
          ]
        }
      ]
    },
    {
      "cell_type": "markdown",
      "source": [
        "Q15: Create a class Product with attributes name, price, and quantity. Implement a method total_price() that\n",
        "calculates the total price of the product.\n",
        "\n",
        "\n"
      ],
      "metadata": {
        "id": "B-0kpOY7ftwC"
      }
    },
    {
      "cell_type": "code",
      "source": [
        "class Product:\n",
        "    def __init__(self, name, price, quantity):\n",
        "        self.name = name\n",
        "        self.price = price\n",
        "        self.quantity = quantity\n",
        "\n",
        "    # Method to calculate total price\n",
        "    def total_price(self):\n",
        "        return self.price * self.quantity\n",
        "\n",
        "    # Method to display product details\n",
        "    def display_info(self):\n",
        "        print(f\"Product Name: {self.name}\")\n",
        "        print(f\"Price per Unit: ${self.price:.2f}\")\n",
        "        print(f\"Quantity: {self.quantity}\")\n",
        "        print(f\"Total Price: ${self.total_price():.2f}\")\n",
        "\n",
        "# Example usage\n",
        "product1 = Product(\"Laptop\", 800, 2)\n",
        "product2 = Product(\"Headphones\", 50, 3)\n",
        "\n",
        "# Display product details\n",
        "product1.display_info()\n",
        "print()\n",
        "product2.display_info()"
      ],
      "metadata": {
        "id": "My0gbOyqfvzh",
        "colab": {
          "base_uri": "https://localhost:8080/"
        },
        "outputId": "c65fe712-689e-4dc4-9142-3bd75b881688"
      },
      "execution_count": 20,
      "outputs": [
        {
          "output_type": "stream",
          "name": "stdout",
          "text": [
            "Product Name: Laptop\n",
            "Price per Unit: $800.00\n",
            "Quantity: 2\n",
            "Total Price: $1600.00\n",
            "\n",
            "Product Name: Headphones\n",
            "Price per Unit: $50.00\n",
            "Quantity: 3\n",
            "Total Price: $150.00\n"
          ]
        }
      ]
    },
    {
      "cell_type": "markdown",
      "source": [
        "Q16: Create a class Animal with an abstract method sound(). Create two derived classes Cow and Sheep that\n",
        "implement the sound() method.\n"
      ],
      "metadata": {
        "id": "NqcrThySfwy1"
      }
    },
    {
      "cell_type": "code",
      "source": [
        "from abc import ABC, abstractmethod\n",
        "\n",
        "# Abstract class\n",
        "class Animal(ABC):\n",
        "    @abstractmethod\n",
        "    def sound(self):\n",
        "        pass  # Abstract method - must be implemented by derived classes\n",
        "\n",
        "# Derived class Cow\n",
        "class Cow(Animal):\n",
        "    def sound(self):\n",
        "        print(\"Cow says: Moo\")\n",
        "\n",
        "# Derived class Sheep\n",
        "class Sheep(Animal):\n",
        "    def sound(self):\n",
        "        print(\"Sheep says: Baa\")\n",
        "\n",
        "# Example usage\n",
        "cow = Cow()\n",
        "sheep = Sheep()\n",
        "\n",
        "# Demonstrating polymorphic behavior\n",
        "cow.sound()   # Output: Cow says: Moo\n",
        "sheep.sound()  # Output: Sheep says: Baa"
      ],
      "metadata": {
        "id": "1Z3hE21afyqV",
        "colab": {
          "base_uri": "https://localhost:8080/"
        },
        "outputId": "d1a06f24-031a-4403-b8ea-f4825e88549a"
      },
      "execution_count": 21,
      "outputs": [
        {
          "output_type": "stream",
          "name": "stdout",
          "text": [
            "Cow says: Moo\n",
            "Sheep says: Baa\n"
          ]
        }
      ]
    },
    {
      "cell_type": "markdown",
      "source": [
        "Q17: Create a class Book with attributes title, author, and year_published. Add a method get_book_info() that\n",
        "returns a formatted string with the book's details.\n",
        "\n",
        "\n"
      ],
      "metadata": {
        "id": "ko6lM5aDfzuC"
      }
    },
    {
      "cell_type": "code",
      "source": [
        "class Book:\n",
        "    def __init__(self, title, author, year_published):\n",
        "        self.title = title\n",
        "        self.author = author\n",
        "        self.year_published = year_published\n",
        "\n",
        "    # Method to return book information\n",
        "    def get_book_info(self):\n",
        "        return f\"'{self.title}' by {self.author} (Published in {self.year_published})\"\n",
        "\n",
        "# Example usage\n",
        "book1 = Book(\"To Kill a Mockingbird\", \"Harper Lee\", 1960)\n",
        "book2 = Book(\"1984\", \"George Orwell\", 1949)\n",
        "\n",
        "# Display book details\n",
        "print(book1.get_book_info())\n",
        "print(book2.get_book_info())"
      ],
      "metadata": {
        "id": "eSWFkWSYf15n",
        "colab": {
          "base_uri": "https://localhost:8080/"
        },
        "outputId": "85a6e378-06ae-47de-f3be-5e608b17ef05"
      },
      "execution_count": 22,
      "outputs": [
        {
          "output_type": "stream",
          "name": "stdout",
          "text": [
            "'To Kill a Mockingbird' by Harper Lee (Published in 1960)\n",
            "'1984' by George Orwell (Published in 1949)\n"
          ]
        }
      ]
    },
    {
      "cell_type": "markdown",
      "source": [
        "Q18: Create a class House with attributes address and price. Create a derived class Mansion that adds an\n",
        "attribute number_of_rooms"
      ],
      "metadata": {
        "id": "WSmmrnVOf3JC"
      }
    },
    {
      "cell_type": "code",
      "source": [
        "# Base class\n",
        "class House:\n",
        "    def __init__(self, address, price):\n",
        "        self.address = address\n",
        "        self.price = price\n",
        "\n",
        "    # Method to display house details\n",
        "    def display_info(self):\n",
        "        print(f\"Address: {self.address}\")\n",
        "        print(f\"Price: ${self.price:,.2f}\")\n",
        "\n",
        "# Derived class\n",
        "class Mansion(House):\n",
        "    def __init__(self, address, price, number_of_rooms):\n",
        "        super().__init__(address, price)  # Inheriting attributes from House\n",
        "        self.number_of_rooms = number_of_rooms\n",
        "\n",
        "    # Overriding display_info to include room details\n",
        "    def display_info(self):\n",
        "        super().display_info()  # Calling the parent class method\n",
        "        print(f\"Number of Rooms: {self.number_of_rooms}\")\n",
        "\n",
        "# Example usage\n",
        "house1 = House(\"123 Elm Street\", 300000)\n",
        "mansion1 = Mansion(\"456 Oak Avenue\", 1500000, 10)\n",
        "\n",
        "# Display details\n",
        "print(\"House Details:\")\n",
        "house1.display_info()\n",
        "\n",
        "print(\"\\nMansion Details:\")\n",
        "mansion1.display_info()"
      ],
      "metadata": {
        "id": "WlhrhINRf6GX",
        "colab": {
          "base_uri": "https://localhost:8080/"
        },
        "outputId": "fb5a1ea8-3d88-4b9a-b9c8-d63f3975351d"
      },
      "execution_count": 24,
      "outputs": [
        {
          "output_type": "stream",
          "name": "stdout",
          "text": [
            "House Details:\n",
            "Address: 123 Elm Street\n",
            "Price: $300,000.00\n",
            "\n",
            "Mansion Details:\n",
            "Address: 456 Oak Avenue\n",
            "Price: $1,500,000.00\n",
            "Number of Rooms: 10\n"
          ]
        }
      ]
    }
  ]
}